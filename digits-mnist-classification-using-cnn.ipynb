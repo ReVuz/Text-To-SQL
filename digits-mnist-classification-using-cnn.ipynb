{
 "cells": [
  {
   "cell_type": "markdown",
   "metadata": {},
   "source": [
    "## About the Dataset\n",
    "> * MNIST (\"Modified National Institute of Standards and Technology\") is the de facto “hello world” dataset of computer vision.   \n",
    "> * Since its release in 1999, this classic dataset of handwritten images has served as the basis for benchmarking classification algorithms. \n",
    "> * As new machine learning techniques emerge, MNIST remains a reliable resource for researchers and learners alike.\n",
    "\n",
    "## Task\n",
    "> * To correctly identify digits from a dataset of tens of thousands of handwritten images in the test dataset"
   ]
  },
  {
   "cell_type": "markdown",
   "metadata": {},
   "source": [
    "# Libraries"
   ]
  },
  {
   "cell_type": "code",
   "execution_count": 1,
   "metadata": {
    "_cell_guid": "b1076dfc-b9ad-4769-8c92-a6c4dae69d19",
    "_uuid": "8f2839f25d086af736a60e9eeb907d3b93b6e0e5",
    "execution": {
     "iopub.execute_input": "2024-09-05T06:27:37.762809Z",
     "iopub.status.busy": "2024-09-05T06:27:37.762438Z",
     "iopub.status.idle": "2024-09-05T06:27:41.858925Z",
     "shell.execute_reply": "2024-09-05T06:27:41.857867Z",
     "shell.execute_reply.started": "2024-09-05T06:27:37.762756Z"
    }
   },
   "outputs": [],
   "source": [
    "# for numerical analysis\n",
    "import numpy as np \n",
    "# to store and process in a dataframe\n",
    "import pandas as pd \n",
    "\n",
    "# for ploting graphs\n",
    "import matplotlib.pyplot as plt\n",
    "# advancec ploting\n",
    "import seaborn as sns\n",
    "\n",
    "# image processing\n",
    "import matplotlib.image as mpimg\n",
    "\n",
    "# train test split\n",
    "from sklearn.model_selection import train_test_split\n",
    "# model performance metrics\n",
    "from sklearn.metrics import confusion_matrix, classification_report\n",
    "\n",
    "# utility functions\n",
    "from tensorflow.keras.utils import to_categorical\n",
    "# sequential model\n",
    "from tensorflow.keras.models import Sequential\n",
    "# layers\n",
    "from tensorflow.keras.layers import Conv2D, MaxPool2D, Dense, Flatten, Dropout\n",
    "\n",
    "\n",
    "# from keras.optimizers import RMSprop\n",
    "# from keras.preprocessing.image import ImageDataGenerator\n",
    "# from keras.callbacks import ReduceLROnPlateau"
   ]
  },
  {
   "cell_type": "markdown",
   "metadata": {},
   "source": [
    "# Data"
   ]
  },
  {
   "cell_type": "code",
   "execution_count": 2,
   "metadata": {
    "execution": {
     "iopub.execute_input": "2024-09-05T06:27:41.862514Z",
     "iopub.status.busy": "2024-09-05T06:27:41.862002Z",
     "iopub.status.idle": "2024-09-05T06:27:43.034071Z",
     "shell.execute_reply": "2024-09-05T06:27:43.032870Z",
     "shell.execute_reply.started": "2024-09-05T06:27:41.862434Z"
    }
   },
   "outputs": [
    {
     "name": "stdout",
     "output_type": "stream",
     "text": [
      "sample_submission.csv  test.csv  train.csv\r\n"
     ]
    }
   ],
   "source": [
    "# list of files\n",
    "! ls ../input/digit-recognizer"
   ]
  },
  {
   "cell_type": "code",
   "execution_count": 3,
   "metadata": {
    "_cell_guid": "79c7e3d0-c299-4dcb-8224-4455121ee9b0",
    "_uuid": "d629ff2d2480ee46fbb7e2d37f6b5fab8052498a",
    "execution": {
     "iopub.execute_input": "2024-09-05T06:27:43.036441Z",
     "iopub.status.busy": "2024-09-05T06:27:43.036069Z",
     "iopub.status.idle": "2024-09-05T06:27:50.874205Z",
     "shell.execute_reply": "2024-09-05T06:27:50.873005Z",
     "shell.execute_reply.started": "2024-09-05T06:27:43.036375Z"
    }
   },
   "outputs": [],
   "source": [
    "# import train and test dataset\n",
    "train = pd.read_csv(\"../input/digit-recognizer/train.csv\")\n",
    "test = pd.read_csv(\"../input/digit-recognizer/test.csv\")"
   ]
  },
  {
   "cell_type": "code",
   "execution_count": 4,
   "metadata": {
    "execution": {
     "iopub.execute_input": "2024-09-05T06:27:50.876225Z",
     "iopub.status.busy": "2024-09-05T06:27:50.875896Z",
     "iopub.status.idle": "2024-09-05T06:27:50.930014Z",
     "shell.execute_reply": "2024-09-05T06:27:50.928783Z",
     "shell.execute_reply.started": "2024-09-05T06:27:50.876166Z"
    }
   },
   "outputs": [
    {
     "data": {
      "text/html": [
       "<div>\n",
       "<style scoped>\n",
       "    .dataframe tbody tr th:only-of-type {\n",
       "        vertical-align: middle;\n",
       "    }\n",
       "\n",
       "    .dataframe tbody tr th {\n",
       "        vertical-align: top;\n",
       "    }\n",
       "\n",
       "    .dataframe thead th {\n",
       "        text-align: right;\n",
       "    }\n",
       "</style>\n",
       "<table border=\"1\" class=\"dataframe\">\n",
       "  <thead>\n",
       "    <tr style=\"text-align: right;\">\n",
       "      <th></th>\n",
       "      <th>label</th>\n",
       "      <th>pixel0</th>\n",
       "      <th>pixel1</th>\n",
       "      <th>pixel2</th>\n",
       "      <th>pixel3</th>\n",
       "      <th>pixel4</th>\n",
       "      <th>pixel5</th>\n",
       "      <th>pixel6</th>\n",
       "      <th>pixel7</th>\n",
       "      <th>pixel8</th>\n",
       "      <th>...</th>\n",
       "      <th>pixel774</th>\n",
       "      <th>pixel775</th>\n",
       "      <th>pixel776</th>\n",
       "      <th>pixel777</th>\n",
       "      <th>pixel778</th>\n",
       "      <th>pixel779</th>\n",
       "      <th>pixel780</th>\n",
       "      <th>pixel781</th>\n",
       "      <th>pixel782</th>\n",
       "      <th>pixel783</th>\n",
       "    </tr>\n",
       "  </thead>\n",
       "  <tbody>\n",
       "    <tr>\n",
       "      <th>0</th>\n",
       "      <td>1</td>\n",
       "      <td>0</td>\n",
       "      <td>0</td>\n",
       "      <td>0</td>\n",
       "      <td>0</td>\n",
       "      <td>0</td>\n",
       "      <td>0</td>\n",
       "      <td>0</td>\n",
       "      <td>0</td>\n",
       "      <td>0</td>\n",
       "      <td>...</td>\n",
       "      <td>0</td>\n",
       "      <td>0</td>\n",
       "      <td>0</td>\n",
       "      <td>0</td>\n",
       "      <td>0</td>\n",
       "      <td>0</td>\n",
       "      <td>0</td>\n",
       "      <td>0</td>\n",
       "      <td>0</td>\n",
       "      <td>0</td>\n",
       "    </tr>\n",
       "    <tr>\n",
       "      <th>1</th>\n",
       "      <td>0</td>\n",
       "      <td>0</td>\n",
       "      <td>0</td>\n",
       "      <td>0</td>\n",
       "      <td>0</td>\n",
       "      <td>0</td>\n",
       "      <td>0</td>\n",
       "      <td>0</td>\n",
       "      <td>0</td>\n",
       "      <td>0</td>\n",
       "      <td>...</td>\n",
       "      <td>0</td>\n",
       "      <td>0</td>\n",
       "      <td>0</td>\n",
       "      <td>0</td>\n",
       "      <td>0</td>\n",
       "      <td>0</td>\n",
       "      <td>0</td>\n",
       "      <td>0</td>\n",
       "      <td>0</td>\n",
       "      <td>0</td>\n",
       "    </tr>\n",
       "    <tr>\n",
       "      <th>2</th>\n",
       "      <td>1</td>\n",
       "      <td>0</td>\n",
       "      <td>0</td>\n",
       "      <td>0</td>\n",
       "      <td>0</td>\n",
       "      <td>0</td>\n",
       "      <td>0</td>\n",
       "      <td>0</td>\n",
       "      <td>0</td>\n",
       "      <td>0</td>\n",
       "      <td>...</td>\n",
       "      <td>0</td>\n",
       "      <td>0</td>\n",
       "      <td>0</td>\n",
       "      <td>0</td>\n",
       "      <td>0</td>\n",
       "      <td>0</td>\n",
       "      <td>0</td>\n",
       "      <td>0</td>\n",
       "      <td>0</td>\n",
       "      <td>0</td>\n",
       "    </tr>\n",
       "    <tr>\n",
       "      <th>3</th>\n",
       "      <td>4</td>\n",
       "      <td>0</td>\n",
       "      <td>0</td>\n",
       "      <td>0</td>\n",
       "      <td>0</td>\n",
       "      <td>0</td>\n",
       "      <td>0</td>\n",
       "      <td>0</td>\n",
       "      <td>0</td>\n",
       "      <td>0</td>\n",
       "      <td>...</td>\n",
       "      <td>0</td>\n",
       "      <td>0</td>\n",
       "      <td>0</td>\n",
       "      <td>0</td>\n",
       "      <td>0</td>\n",
       "      <td>0</td>\n",
       "      <td>0</td>\n",
       "      <td>0</td>\n",
       "      <td>0</td>\n",
       "      <td>0</td>\n",
       "    </tr>\n",
       "    <tr>\n",
       "      <th>4</th>\n",
       "      <td>0</td>\n",
       "      <td>0</td>\n",
       "      <td>0</td>\n",
       "      <td>0</td>\n",
       "      <td>0</td>\n",
       "      <td>0</td>\n",
       "      <td>0</td>\n",
       "      <td>0</td>\n",
       "      <td>0</td>\n",
       "      <td>0</td>\n",
       "      <td>...</td>\n",
       "      <td>0</td>\n",
       "      <td>0</td>\n",
       "      <td>0</td>\n",
       "      <td>0</td>\n",
       "      <td>0</td>\n",
       "      <td>0</td>\n",
       "      <td>0</td>\n",
       "      <td>0</td>\n",
       "      <td>0</td>\n",
       "      <td>0</td>\n",
       "    </tr>\n",
       "  </tbody>\n",
       "</table>\n",
       "<p>5 rows × 785 columns</p>\n",
       "</div>"
      ],
      "text/plain": [
       "   label  pixel0  pixel1  pixel2  pixel3  pixel4  pixel5  pixel6  pixel7  \\\n",
       "0      1       0       0       0       0       0       0       0       0   \n",
       "1      0       0       0       0       0       0       0       0       0   \n",
       "2      1       0       0       0       0       0       0       0       0   \n",
       "3      4       0       0       0       0       0       0       0       0   \n",
       "4      0       0       0       0       0       0       0       0       0   \n",
       "\n",
       "   pixel8  ...  pixel774  pixel775  pixel776  pixel777  pixel778  pixel779  \\\n",
       "0       0  ...         0         0         0         0         0         0   \n",
       "1       0  ...         0         0         0         0         0         0   \n",
       "2       0  ...         0         0         0         0         0         0   \n",
       "3       0  ...         0         0         0         0         0         0   \n",
       "4       0  ...         0         0         0         0         0         0   \n",
       "\n",
       "   pixel780  pixel781  pixel782  pixel783  \n",
       "0         0         0         0         0  \n",
       "1         0         0         0         0  \n",
       "2         0         0         0         0  \n",
       "3         0         0         0         0  \n",
       "4         0         0         0         0  \n",
       "\n",
       "[5 rows x 785 columns]"
      ]
     },
     "execution_count": 4,
     "metadata": {},
     "output_type": "execute_result"
    }
   ],
   "source": [
    "# training dataset\n",
    "train.head()"
   ]
  },
  {
   "cell_type": "code",
   "execution_count": 5,
   "metadata": {
    "execution": {
     "iopub.execute_input": "2024-09-05T06:27:50.934899Z",
     "iopub.status.busy": "2024-09-05T06:27:50.934461Z",
     "iopub.status.idle": "2024-09-05T06:27:50.963042Z",
     "shell.execute_reply": "2024-09-05T06:27:50.961935Z",
     "shell.execute_reply.started": "2024-09-05T06:27:50.934830Z"
    }
   },
   "outputs": [
    {
     "data": {
      "text/html": [
       "<div>\n",
       "<style scoped>\n",
       "    .dataframe tbody tr th:only-of-type {\n",
       "        vertical-align: middle;\n",
       "    }\n",
       "\n",
       "    .dataframe tbody tr th {\n",
       "        vertical-align: top;\n",
       "    }\n",
       "\n",
       "    .dataframe thead th {\n",
       "        text-align: right;\n",
       "    }\n",
       "</style>\n",
       "<table border=\"1\" class=\"dataframe\">\n",
       "  <thead>\n",
       "    <tr style=\"text-align: right;\">\n",
       "      <th></th>\n",
       "      <th>pixel0</th>\n",
       "      <th>pixel1</th>\n",
       "      <th>pixel2</th>\n",
       "      <th>pixel3</th>\n",
       "      <th>pixel4</th>\n",
       "      <th>pixel5</th>\n",
       "      <th>pixel6</th>\n",
       "      <th>pixel7</th>\n",
       "      <th>pixel8</th>\n",
       "      <th>pixel9</th>\n",
       "      <th>...</th>\n",
       "      <th>pixel774</th>\n",
       "      <th>pixel775</th>\n",
       "      <th>pixel776</th>\n",
       "      <th>pixel777</th>\n",
       "      <th>pixel778</th>\n",
       "      <th>pixel779</th>\n",
       "      <th>pixel780</th>\n",
       "      <th>pixel781</th>\n",
       "      <th>pixel782</th>\n",
       "      <th>pixel783</th>\n",
       "    </tr>\n",
       "  </thead>\n",
       "  <tbody>\n",
       "    <tr>\n",
       "      <th>0</th>\n",
       "      <td>0</td>\n",
       "      <td>0</td>\n",
       "      <td>0</td>\n",
       "      <td>0</td>\n",
       "      <td>0</td>\n",
       "      <td>0</td>\n",
       "      <td>0</td>\n",
       "      <td>0</td>\n",
       "      <td>0</td>\n",
       "      <td>0</td>\n",
       "      <td>...</td>\n",
       "      <td>0</td>\n",
       "      <td>0</td>\n",
       "      <td>0</td>\n",
       "      <td>0</td>\n",
       "      <td>0</td>\n",
       "      <td>0</td>\n",
       "      <td>0</td>\n",
       "      <td>0</td>\n",
       "      <td>0</td>\n",
       "      <td>0</td>\n",
       "    </tr>\n",
       "    <tr>\n",
       "      <th>1</th>\n",
       "      <td>0</td>\n",
       "      <td>0</td>\n",
       "      <td>0</td>\n",
       "      <td>0</td>\n",
       "      <td>0</td>\n",
       "      <td>0</td>\n",
       "      <td>0</td>\n",
       "      <td>0</td>\n",
       "      <td>0</td>\n",
       "      <td>0</td>\n",
       "      <td>...</td>\n",
       "      <td>0</td>\n",
       "      <td>0</td>\n",
       "      <td>0</td>\n",
       "      <td>0</td>\n",
       "      <td>0</td>\n",
       "      <td>0</td>\n",
       "      <td>0</td>\n",
       "      <td>0</td>\n",
       "      <td>0</td>\n",
       "      <td>0</td>\n",
       "    </tr>\n",
       "    <tr>\n",
       "      <th>2</th>\n",
       "      <td>0</td>\n",
       "      <td>0</td>\n",
       "      <td>0</td>\n",
       "      <td>0</td>\n",
       "      <td>0</td>\n",
       "      <td>0</td>\n",
       "      <td>0</td>\n",
       "      <td>0</td>\n",
       "      <td>0</td>\n",
       "      <td>0</td>\n",
       "      <td>...</td>\n",
       "      <td>0</td>\n",
       "      <td>0</td>\n",
       "      <td>0</td>\n",
       "      <td>0</td>\n",
       "      <td>0</td>\n",
       "      <td>0</td>\n",
       "      <td>0</td>\n",
       "      <td>0</td>\n",
       "      <td>0</td>\n",
       "      <td>0</td>\n",
       "    </tr>\n",
       "    <tr>\n",
       "      <th>3</th>\n",
       "      <td>0</td>\n",
       "      <td>0</td>\n",
       "      <td>0</td>\n",
       "      <td>0</td>\n",
       "      <td>0</td>\n",
       "      <td>0</td>\n",
       "      <td>0</td>\n",
       "      <td>0</td>\n",
       "      <td>0</td>\n",
       "      <td>0</td>\n",
       "      <td>...</td>\n",
       "      <td>0</td>\n",
       "      <td>0</td>\n",
       "      <td>0</td>\n",
       "      <td>0</td>\n",
       "      <td>0</td>\n",
       "      <td>0</td>\n",
       "      <td>0</td>\n",
       "      <td>0</td>\n",
       "      <td>0</td>\n",
       "      <td>0</td>\n",
       "    </tr>\n",
       "    <tr>\n",
       "      <th>4</th>\n",
       "      <td>0</td>\n",
       "      <td>0</td>\n",
       "      <td>0</td>\n",
       "      <td>0</td>\n",
       "      <td>0</td>\n",
       "      <td>0</td>\n",
       "      <td>0</td>\n",
       "      <td>0</td>\n",
       "      <td>0</td>\n",
       "      <td>0</td>\n",
       "      <td>...</td>\n",
       "      <td>0</td>\n",
       "      <td>0</td>\n",
       "      <td>0</td>\n",
       "      <td>0</td>\n",
       "      <td>0</td>\n",
       "      <td>0</td>\n",
       "      <td>0</td>\n",
       "      <td>0</td>\n",
       "      <td>0</td>\n",
       "      <td>0</td>\n",
       "    </tr>\n",
       "  </tbody>\n",
       "</table>\n",
       "<p>5 rows × 784 columns</p>\n",
       "</div>"
      ],
      "text/plain": [
       "   pixel0  pixel1  pixel2  pixel3  pixel4  pixel5  pixel6  pixel7  pixel8  \\\n",
       "0       0       0       0       0       0       0       0       0       0   \n",
       "1       0       0       0       0       0       0       0       0       0   \n",
       "2       0       0       0       0       0       0       0       0       0   \n",
       "3       0       0       0       0       0       0       0       0       0   \n",
       "4       0       0       0       0       0       0       0       0       0   \n",
       "\n",
       "   pixel9  ...  pixel774  pixel775  pixel776  pixel777  pixel778  pixel779  \\\n",
       "0       0  ...         0         0         0         0         0         0   \n",
       "1       0  ...         0         0         0         0         0         0   \n",
       "2       0  ...         0         0         0         0         0         0   \n",
       "3       0  ...         0         0         0         0         0         0   \n",
       "4       0  ...         0         0         0         0         0         0   \n",
       "\n",
       "   pixel780  pixel781  pixel782  pixel783  \n",
       "0         0         0         0         0  \n",
       "1         0         0         0         0  \n",
       "2         0         0         0         0  \n",
       "3         0         0         0         0  \n",
       "4         0         0         0         0  \n",
       "\n",
       "[5 rows x 784 columns]"
      ]
     },
     "execution_count": 5,
     "metadata": {},
     "output_type": "execute_result"
    }
   ],
   "source": [
    "# test dataset\n",
    "test.head()"
   ]
  },
  {
   "cell_type": "code",
   "execution_count": 6,
   "metadata": {
    "execution": {
     "iopub.execute_input": "2024-09-05T06:27:50.967168Z",
     "iopub.status.busy": "2024-09-05T06:27:50.966792Z",
     "iopub.status.idle": "2024-09-05T06:27:51.113049Z",
     "shell.execute_reply": "2024-09-05T06:27:51.111984Z",
     "shell.execute_reply.started": "2024-09-05T06:27:50.967100Z"
    }
   },
   "outputs": [
    {
     "name": "stdout",
     "output_type": "stream",
     "text": [
      "0\n",
      "0\n"
     ]
    }
   ],
   "source": [
    "# looking for missing values\n",
    "print(train.isna().sum().sum())\n",
    "print(test.isna().sum().sum())"
   ]
  },
  {
   "cell_type": "markdown",
   "metadata": {},
   "source": [
    "# EDA"
   ]
  },
  {
   "cell_type": "markdown",
   "metadata": {},
   "source": [
    "### Label count"
   ]
  },
  {
   "cell_type": "code",
   "execution_count": 7,
   "metadata": {
    "execution": {
     "iopub.execute_input": "2024-09-05T06:27:51.115107Z",
     "iopub.status.busy": "2024-09-05T06:27:51.114710Z",
     "iopub.status.idle": "2024-09-05T06:27:51.398839Z",
     "shell.execute_reply": "2024-09-05T06:27:51.397791Z",
     "shell.execute_reply.started": "2024-09-05T06:27:51.115045Z"
    }
   },
   "outputs": [
    {
     "data": {
      "image/png": "[encoded data removed]",
      "text/plain": [
       "<Figure size 576x360 with 1 Axes>"
      ]
     },
     "metadata": {
      "needs_background": "light"
     },
     "output_type": "display_data"
    }
   ],
   "source": [
    "plt.figure(figsize=(8, 5))\n",
    "sns.countplot(train['label'], palette='Dark2')\n",
    "plt.title('Train labels count')\n",
    "plt.show()"
   ]
  },
  {
   "cell_type": "code",
   "execution_count": 8,
   "metadata": {
    "execution": {
     "iopub.execute_input": "2024-09-05T06:27:51.401648Z",
     "iopub.status.busy": "2024-09-05T06:27:51.401257Z",
     "iopub.status.idle": "2024-09-05T06:27:51.417097Z",
     "shell.execute_reply": "2024-09-05T06:27:51.415762Z",
     "shell.execute_reply.started": "2024-09-05T06:27:51.401552Z"
    }
   },
   "outputs": [
    {
     "data": {
      "text/plain": [
       "0    4132\n",
       "1    4684\n",
       "2    4177\n",
       "3    4351\n",
       "4    4072\n",
       "5    3795\n",
       "6    4137\n",
       "7    4401\n",
       "8    4063\n",
       "9    4188\n",
       "Name: label, dtype: int64"
      ]
     },
     "execution_count": 8,
     "metadata": {},
     "output_type": "execute_result"
    }
   ],
   "source": [
    "train['label'].value_counts().sort_index()"
   ]
  },
  {
   "cell_type": "code",
   "execution_count": 9,
   "metadata": {
    "execution": {
     "iopub.execute_input": "2024-09-05T06:27:51.418953Z",
     "iopub.status.busy": "2024-09-05T06:27:51.418636Z",
     "iopub.status.idle": "2024-09-05T06:27:52.134780Z",
     "shell.execute_reply": "2024-09-05T06:27:52.133684Z",
     "shell.execute_reply.started": "2024-09-05T06:27:51.418903Z"
    }
   },
   "outputs": [
    {
     "data": {
      "image/png": "[encoded data removed]",
      "text/plain": [
       "<Figure size 1296x576 with 8 Axes>"
      ]
     },
     "metadata": {
      "needs_background": "light"
     },
     "output_type": "display_data"
    }
   ],
   "source": [
    "# first few train images with labels\n",
    "fig, ax = plt.subplots(figsize=(18, 8))\n",
    "for ind, row in train.iloc[:8, :].iterrows():\n",
    "    plt.subplot(2, 4, ind+1)\n",
    "    plt.title(row[0])\n",
    "    img = row.to_numpy()[1:].reshape(28, 28)\n",
    "    fig.suptitle('Train images', fontsize=24)\n",
    "    plt.axis('off')\n",
    "    plt.imshow(img, cmap='magma')"
   ]
  },
  {
   "cell_type": "markdown",
   "metadata": {
    "_kg_hide-input": true
   },
   "source": [
    "> Test images doesn't have labels  \n",
    "> We need to create a model to predict them"
   ]
  },
  {
   "cell_type": "code",
   "execution_count": 10,
   "metadata": {
    "execution": {
     "iopub.execute_input": "2024-09-05T06:27:52.137143Z",
     "iopub.status.busy": "2024-09-05T06:27:52.136795Z",
     "iopub.status.idle": "2024-09-05T06:27:52.814543Z",
     "shell.execute_reply": "2024-09-05T06:27:52.813417Z",
     "shell.execute_reply.started": "2024-09-05T06:27:52.137079Z"
    }
   },
   "outputs": [
    {
     "data": {
      "image/png": "[encoded data removed]",
      "text/plain": [
       "<Figure size 1296x576 with 8 Axes>"
      ]
     },
     "metadata": {
      "needs_background": "light"
     },
     "output_type": "display_data"
    }
   ],
   "source": [
    "# first few test images\n",
    "fig, ax = plt.subplots(figsize=(18, 8))\n",
    "for ind, row in test.iloc[:8, :].iterrows():\n",
    "    plt.subplot(2, 4, ind+1)\n",
    "    img = row.to_numpy()[:].reshape(28, 28)\n",
    "    fig.suptitle('Test images', fontsize=24)\n",
    "    plt.axis('off')\n",
    "    plt.imshow(img, cmap='magma')"
   ]
  },
  {
   "cell_type": "markdown",
   "metadata": {},
   "source": [
    "# Preprocessing"
   ]
  },
  {
   "cell_type": "code",
   "execution_count": 11,
   "metadata": {
    "execution": {
     "iopub.execute_input": "2024-09-05T06:27:52.816586Z",
     "iopub.status.busy": "2024-09-05T06:27:52.816167Z",
     "iopub.status.idle": "2024-09-05T06:27:52.825160Z",
     "shell.execute_reply": "2024-09-05T06:27:52.824028Z",
     "shell.execute_reply.started": "2024-09-05T06:27:52.816492Z"
    }
   },
   "outputs": [
    {
     "name": "stdout",
     "output_type": "stream",
     "text": [
      "(42000, 784)\n",
      "(42000,)\n",
      "(28000, 784)\n"
     ]
    }
   ],
   "source": [
    "# split into image and labels and convert to numpy array\n",
    "X = train.iloc[:, 1:].to_numpy()\n",
    "y = train['label'].to_numpy()\n",
    "\n",
    "# test dataset\n",
    "test = test.loc[:, :].to_numpy()\n",
    "\n",
    "for i in [X, y, test]:\n",
    "    print(i.shape)"
   ]
  },
  {
   "cell_type": "code",
   "execution_count": 12,
   "metadata": {
    "execution": {
     "iopub.execute_input": "2024-09-05T06:27:52.827843Z",
     "iopub.status.busy": "2024-09-05T06:27:52.827114Z",
     "iopub.status.idle": "2024-09-05T06:27:53.287865Z",
     "shell.execute_reply": "2024-09-05T06:27:53.286697Z",
     "shell.execute_reply.started": "2024-09-05T06:27:52.827513Z"
    }
   },
   "outputs": [],
   "source": [
    "# normalize the data\n",
    "# ==================\n",
    "\n",
    "X = X / 255.0\n",
    "test = test / 255.0"
   ]
  },
  {
   "cell_type": "code",
   "execution_count": 13,
   "metadata": {
    "execution": {
     "iopub.execute_input": "2024-09-05T06:27:53.289579Z",
     "iopub.status.busy": "2024-09-05T06:27:53.289152Z",
     "iopub.status.idle": "2024-09-05T06:27:53.297331Z",
     "shell.execute_reply": "2024-09-05T06:27:53.296348Z",
     "shell.execute_reply.started": "2024-09-05T06:27:53.289511Z"
    }
   },
   "outputs": [
    {
     "name": "stdout",
     "output_type": "stream",
     "text": [
      "(42000, 784)\n",
      "(28000, 784)\n",
      "(42000, 28, 28, 1)\n",
      "(28000, 28, 28, 1)\n"
     ]
    }
   ],
   "source": [
    "# reshape dataset\n",
    "# ===============\n",
    "\n",
    "# shape of training and test dataset\n",
    "print(X.shape)\n",
    "print(test.shape)\n",
    "\n",
    "# reshape the dataframe to 3x3 matrix with 1 channel grey scale values\n",
    "X = X.reshape(-1,28,28,1)\n",
    "test = test.reshape(-1,28,28,1)\n",
    "\n",
    "# shape of training and test dataset\n",
    "print(X.shape)\n",
    "print(test.shape)"
   ]
  },
  {
   "cell_type": "code",
   "execution_count": 14,
   "metadata": {
    "execution": {
     "iopub.execute_input": "2024-09-05T06:27:53.299323Z",
     "iopub.status.busy": "2024-09-05T06:27:53.298976Z",
     "iopub.status.idle": "2024-09-05T06:27:53.314070Z",
     "shell.execute_reply": "2024-09-05T06:27:53.312985Z",
     "shell.execute_reply.started": "2024-09-05T06:27:53.299271Z"
    }
   },
   "outputs": [
    {
     "name": "stdout",
     "output_type": "stream",
     "text": [
      "(42000,)\n",
      "1\n",
      "(42000, 10)\n",
      "[0. 1. 0. 0. 0. 0. 0. 0. 0. 0.]\n"
     ]
    }
   ],
   "source": [
    "# one hot encode target\n",
    "# =====================\n",
    "\n",
    "# shape and values of target\n",
    "print(y.shape)\n",
    "print(y[0])\n",
    "\n",
    "# convert Y_train to categorical by one-hot-encoding\n",
    "y_enc = to_categorical(y, num_classes = 10)\n",
    "\n",
    "# shape and values of target\n",
    "print(y_enc.shape)\n",
    "print(y_enc[0])"
   ]
  },
  {
   "cell_type": "code",
   "execution_count": 15,
   "metadata": {
    "execution": {
     "iopub.execute_input": "2024-09-05T06:27:53.316245Z",
     "iopub.status.busy": "2024-09-05T06:27:53.315831Z",
     "iopub.status.idle": "2024-09-05T06:27:54.157751Z",
     "shell.execute_reply": "2024-09-05T06:27:54.156702Z",
     "shell.execute_reply.started": "2024-09-05T06:27:53.316169Z"
    }
   },
   "outputs": [
    {
     "name": "stdout",
     "output_type": "stream",
     "text": [
      "(29400, 28, 28, 1)\n",
      "(29400, 10)\n",
      "(12600, 28, 28, 1)\n",
      "(12600, 10)\n"
     ]
    }
   ],
   "source": [
    "# train test split\n",
    "# ================\n",
    "\n",
    "# random seed\n",
    "random_seed = 2\n",
    "\n",
    "# train validation split\n",
    "X_train, X_val, y_train_enc, y_val_enc = train_test_split(X, y_enc, test_size=0.3)\n",
    "\n",
    "# shape\n",
    "for i in [X_train, y_train_enc, X_val, y_val_enc]:\n",
    "    print(i.shape)"
   ]
  },
  {
   "cell_type": "markdown",
   "metadata": {},
   "source": [
    "## Plot images"
   ]
  },
  {
   "cell_type": "code",
   "execution_count": 16,
   "metadata": {
    "execution": {
     "iopub.execute_input": "2024-09-05T06:27:54.159457Z",
     "iopub.status.busy": "2024-09-05T06:27:54.159159Z",
     "iopub.status.idle": "2024-09-05T06:27:54.373075Z",
     "shell.execute_reply": "2024-09-05T06:27:54.371970Z",
     "shell.execute_reply.started": "2024-09-05T06:27:54.159409Z"
    }
   },
   "outputs": [
    {
     "name": "stdout",
     "output_type": "stream",
     "text": [
      "[0. 0. 1. 0. 0. 0. 0. 0. 0. 0.]\n"
     ]
    },
    {
     "data": {
      "image/png": "[encoded data removed]",
      "text/plain": [
       "<Figure size 432x288 with 1 Axes>"
      ]
     },
     "metadata": {
      "needs_background": "light"
     },
     "output_type": "display_data"
    }
   ],
   "source": [
    "g = plt.imshow(X_train[0][:,:,0])\n",
    "print(y_train_enc[0])"
   ]
  },
  {
   "cell_type": "code",
   "execution_count": 17,
   "metadata": {
    "execution": {
     "iopub.execute_input": "2024-09-05T06:27:54.374901Z",
     "iopub.status.busy": "2024-09-05T06:27:54.374517Z",
     "iopub.status.idle": "2024-09-05T06:27:54.722584Z",
     "shell.execute_reply": "2024-09-05T06:27:54.721523Z",
     "shell.execute_reply.started": "2024-09-05T06:27:54.374837Z"
    }
   },
   "outputs": [
    {
     "name": "stdout",
     "output_type": "stream",
     "text": [
      "[0. 0. 0. 0. 0. 0. 0. 1. 0. 0.]\n"
     ]
    },
    {
     "data": {
      "image/png": "[encoded data removed]",
      "text/plain": [
       "<Figure size 432x288 with 1 Axes>"
      ]
     },
     "metadata": {
      "needs_background": "light"
     },
     "output_type": "display_data"
    }
   ],
   "source": [
    "g = plt.imshow(X_train[9][:,:,0])\n",
    "print(y_train_enc[9])"
   ]
  },
  {
   "cell_type": "markdown",
   "metadata": {},
   "source": [
    "# CNN"
   ]
  },
  {
   "cell_type": "markdown",
   "metadata": {},
   "source": [
    "### Model parameters"
   ]
  },
  {
   "cell_type": "code",
   "execution_count": 18,
   "metadata": {
    "execution": {
     "iopub.execute_input": "2024-09-05T06:27:54.724639Z",
     "iopub.status.busy": "2024-09-05T06:27:54.724296Z",
     "iopub.status.idle": "2024-09-05T06:27:54.729587Z",
     "shell.execute_reply": "2024-09-05T06:27:54.728666Z",
     "shell.execute_reply.started": "2024-09-05T06:27:54.724553Z"
    }
   },
   "outputs": [],
   "source": [
    "INPUT_SHAPE = (28,28,1)\n",
    "OUTPUT_SHAPE = 10\n",
    "BATCH_SIZE = 128\n",
    "EPOCHS = 10\n",
    "VERBOSE = 2"
   ]
  },
  {
   "cell_type": "markdown",
   "metadata": {},
   "source": [
    "### Define CNN Model"
   ]
  },
  {
   "cell_type": "code",
   "execution_count": 19,
   "metadata": {
    "execution": {
     "iopub.execute_input": "2024-09-05T06:27:54.731618Z",
     "iopub.status.busy": "2024-09-05T06:27:54.731294Z",
     "iopub.status.idle": "2024-09-05T06:27:55.021976Z",
     "shell.execute_reply": "2024-09-05T06:27:55.020804Z",
     "shell.execute_reply.started": "2024-09-05T06:27:54.731542Z"
    }
   },
   "outputs": [],
   "source": [
    "model = Sequential()\n",
    "\n",
    "model.add(Conv2D(32, kernel_size=(3,3), activation='relu', input_shape=INPUT_SHAPE))\n",
    "model.add(MaxPool2D((2,2)))\n",
    "\n",
    "model.add(Conv2D(64, kernel_size=(3,3), activation='relu'))\n",
    "model.add(MaxPool2D((2,2)))\n",
    "\n",
    "model.add(Flatten())\n",
    "\n",
    "model.add(Dense(128, activation='relu'))\n",
    "model.add(Dropout(0.2))\n",
    "\n",
    "model.add(Dense(64, activation='relu'))\n",
    "model.add(Dropout(0.2))\n",
    "\n",
    "model.add(Dense(10, activation='softmax'))"
   ]
  },
  {
   "cell_type": "markdown",
   "metadata": {},
   "source": [
    "### Compile model"
   ]
  },
  {
   "cell_type": "code",
   "execution_count": 20,
   "metadata": {
    "execution": {
     "iopub.execute_input": "2024-09-05T06:27:55.023757Z",
     "iopub.status.busy": "2024-09-05T06:27:55.023298Z",
     "iopub.status.idle": "2024-09-05T06:27:55.087593Z",
     "shell.execute_reply": "2024-09-05T06:27:55.086470Z",
     "shell.execute_reply.started": "2024-09-05T06:27:55.023688Z"
    }
   },
   "outputs": [],
   "source": [
    "model.compile(optimizer='adam', \n",
    "              loss='categorical_crossentropy', \n",
    "              metrics=['accuracy'])"
   ]
  },
  {
   "cell_type": "markdown",
   "metadata": {},
   "source": [
    "### Model summary"
   ]
  },
  {
   "cell_type": "code",
   "execution_count": 21,
   "metadata": {
    "execution": {
     "iopub.execute_input": "2024-09-05T06:27:55.090041Z",
     "iopub.status.busy": "2024-09-05T06:27:55.089606Z",
     "iopub.status.idle": "2024-09-05T06:27:55.098903Z",
     "shell.execute_reply": "2024-09-05T06:27:55.097755Z",
     "shell.execute_reply.started": "2024-09-05T06:27:55.089959Z"
    }
   },
   "outputs": [
    {
     "name": "stdout",
     "output_type": "stream",
     "text": [
      "Model: \"sequential\"\n",
      "_________________________________________________________________\n",
      "Layer (type)                 Output Shape              Param #   \n",
      "=================================================================\n",
      "conv2d (Conv2D)              (None, 26, 26, 32)        320       \n",
      "_________________________________________________________________\n",
      "max_pooling2d (MaxPooling2D) (None, 13, 13, 32)        0         \n",
      "_________________________________________________________________\n",
      "conv2d_1 (Conv2D)            (None, 11, 11, 64)        18496     \n",
      "_________________________________________________________________\n",
      "max_pooling2d_1 (MaxPooling2 (None, 5, 5, 64)          0         \n",
      "_________________________________________________________________\n",
      "flatten (Flatten)            (None, 1600)              0         \n",
      "_________________________________________________________________\n",
      "dense (Dense)                (None, 128)               204928    \n",
      "_________________________________________________________________\n",
      "dropout (Dropout)            (None, 128)               0         \n",
      "_________________________________________________________________\n",
      "dense_1 (Dense)              (None, 64)                8256      \n",
      "_________________________________________________________________\n",
      "dropout_1 (Dropout)          (None, 64)                0         \n",
      "_________________________________________________________________\n",
      "dense_2 (Dense)              (None, 10)                650       \n",
      "=================================================================\n",
      "Total params: 232,650\n",
      "Trainable params: 232,650\n",
      "Non-trainable params: 0\n",
      "_________________________________________________________________\n"
     ]
    }
   ],
   "source": [
    "model.summary()"
   ]
  },
  {
   "cell_type": "markdown",
   "metadata": {},
   "source": [
    "### Model fitting"
   ]
  },
  {
   "cell_type": "code",
   "execution_count": 22,
   "metadata": {
    "execution": {
     "iopub.execute_input": "2024-09-05T06:27:55.101040Z",
     "iopub.status.busy": "2024-09-05T06:27:55.100500Z",
     "iopub.status.idle": "2024-09-05T06:29:51.181420Z",
     "shell.execute_reply": "2024-09-05T06:29:51.180250Z",
     "shell.execute_reply.started": "2024-09-05T06:27:55.100795Z"
    }
   },
   "outputs": [
    {
     "name": "stdout",
     "output_type": "stream",
     "text": [
      "Train on 20580 samples, validate on 8820 samples\n",
      "Epoch 1/10\n",
      "20580/20580 - 13s - loss: 0.5819 - accuracy: 0.8140 - val_loss: 0.1298 - val_accuracy: 0.9619\n",
      "Epoch 2/10\n",
      "20580/20580 - 11s - loss: 0.1562 - accuracy: 0.9525 - val_loss: 0.1028 - val_accuracy: 0.9683\n",
      "Epoch 3/10\n",
      "20580/20580 - 10s - loss: 0.1046 - accuracy: 0.9695 - val_loss: 0.0740 - val_accuracy: 0.9756\n",
      "Epoch 4/10\n",
      "20580/20580 - 10s - loss: 0.0791 - accuracy: 0.9765 - val_loss: 0.0663 - val_accuracy: 0.9785\n",
      "Epoch 5/10\n",
      "20580/20580 - 11s - loss: 0.0656 - accuracy: 0.9803 - val_loss: 0.0621 - val_accuracy: 0.9822\n",
      "Epoch 6/10\n",
      "20580/20580 - 11s - loss: 0.0537 - accuracy: 0.9829 - val_loss: 0.0535 - val_accuracy: 0.9827\n",
      "Epoch 7/10\n",
      "20580/20580 - 11s - loss: 0.0449 - accuracy: 0.9858 - val_loss: 0.0563 - val_accuracy: 0.9820\n",
      "Epoch 8/10\n",
      "20580/20580 - 11s - loss: 0.0373 - accuracy: 0.9881 - val_loss: 0.0513 - val_accuracy: 0.9856\n",
      "Epoch 9/10\n",
      "20580/20580 - 11s - loss: 0.0333 - accuracy: 0.9893 - val_loss: 0.0488 - val_accuracy: 0.9853\n",
      "Epoch 10/10\n",
      "20580/20580 - 11s - loss: 0.0254 - accuracy: 0.9921 - val_loss: 0.0514 - val_accuracy: 0.9857\n"
     ]
    }
   ],
   "source": [
    "history = model.fit(X_train, y_train_enc,\n",
    "                    epochs=EPOCHS,\n",
    "                    batch_size=BATCH_SIZE,\n",
    "                    verbose=VERBOSE,\n",
    "                    validation_split=0.3)"
   ]
  },
  {
   "cell_type": "markdown",
   "metadata": {},
   "source": [
    "### Accurayc and loss"
   ]
  },
  {
   "cell_type": "code",
   "execution_count": 23,
   "metadata": {
    "execution": {
     "iopub.execute_input": "2024-09-05T06:29:51.183492Z",
     "iopub.status.busy": "2024-09-05T06:29:51.183190Z",
     "iopub.status.idle": "2024-09-05T06:29:51.725703Z",
     "shell.execute_reply": "2024-09-05T06:29:51.724589Z",
     "shell.execute_reply.started": "2024-09-05T06:29:51.183443Z"
    }
   },
   "outputs": [
    {
     "data": {
      "image/png": "[encoded data removed]",
      "text/plain": [
       "<Figure size 1008x360 with 2 Axes>"
      ]
     },
     "metadata": {
      "needs_background": "light"
     },
     "output_type": "display_data"
    }
   ],
   "source": [
    "plt.figure(figsize=(14, 5))\n",
    "\n",
    "plt.subplot(1, 2, 1)\n",
    "plt.plot(history.history['accuracy'], label='Training Accuracy')\n",
    "plt.plot(history.history['val_accuracy'], label='Validation Accuracy')\n",
    "plt.legend(loc='lower right')\n",
    "plt.title('Training and Validation Accuracy')\n",
    "\n",
    "plt.subplot(1, 2, 2)\n",
    "plt.plot(history.history['loss'], label='Training Loss')\n",
    "plt.plot(history.history['val_loss'], label='Validation Loss')\n",
    "plt.legend(loc='upper right')\n",
    "plt.title('Training and Validation Loss')\n",
    "\n",
    "plt.savefig('./foo.png')\n",
    "plt.show()"
   ]
  },
  {
   "cell_type": "markdown",
   "metadata": {},
   "source": [
    "### Evaluating on validationa dataset"
   ]
  },
  {
   "cell_type": "code",
   "execution_count": 24,
   "metadata": {
    "execution": {
     "iopub.execute_input": "2024-09-05T06:29:51.727646Z",
     "iopub.status.busy": "2024-09-05T06:29:51.727251Z",
     "iopub.status.idle": "2024-09-05T06:29:54.384447Z",
     "shell.execute_reply": "2024-09-05T06:29:54.383023Z",
     "shell.execute_reply.started": "2024-09-05T06:29:51.727536Z"
    }
   },
   "outputs": [
    {
     "data": {
      "text/plain": [
       "[0.05682105271799729, 0.9855555]"
      ]
     },
     "execution_count": 24,
     "metadata": {},
     "output_type": "execute_result"
    }
   ],
   "source": [
    "# model loss and accuracy on validation set\n",
    "model.evaluate(X_val, y_val_enc, verbose=False)"
   ]
  },
  {
   "cell_type": "code",
   "execution_count": 25,
   "metadata": {
    "execution": {
     "iopub.execute_input": "2024-09-05T06:29:54.386799Z",
     "iopub.status.busy": "2024-09-05T06:29:54.386426Z",
     "iopub.status.idle": "2024-09-05T06:29:57.160841Z",
     "shell.execute_reply": "2024-09-05T06:29:57.159693Z",
     "shell.execute_reply.started": "2024-09-05T06:29:54.386741Z"
    }
   },
   "outputs": [
    {
     "name": "stdout",
     "output_type": "stream",
     "text": [
      "[1.4667706e-13 2.6308602e-09 1.1375231e-10 9.9999976e-01 9.4963609e-13\n",
      " 2.0649289e-07 2.0722759e-14 7.4198789e-09 2.1021324e-11 1.9066566e-11]\n",
      "3\n"
     ]
    }
   ],
   "source": [
    "# predicted values\n",
    "y_pred_enc = model.predict(X_val)\n",
    "\n",
    "# actual\n",
    "y_act = [np.argmax(i) for i in y_val_enc]\n",
    "\n",
    "# decoding predicted values\n",
    "y_pred = [np.argmax(i) for i in y_pred_enc]\n",
    "\n",
    "print(y_pred_enc[0])\n",
    "print(y_pred[0])"
   ]
  },
  {
   "cell_type": "code",
   "execution_count": 26,
   "metadata": {
    "execution": {
     "iopub.execute_input": "2024-09-05T06:29:57.163226Z",
     "iopub.status.busy": "2024-09-05T06:29:57.162812Z",
     "iopub.status.idle": "2024-09-05T06:29:57.217834Z",
     "shell.execute_reply": "2024-09-05T06:29:57.216817Z",
     "shell.execute_reply.started": "2024-09-05T06:29:57.163156Z"
    }
   },
   "outputs": [
    {
     "name": "stdout",
     "output_type": "stream",
     "text": [
      "              precision    recall  f1-score   support\n",
      "\n",
      "           0       1.00      0.99      0.99      1234\n",
      "           1       0.99      1.00      1.00      1379\n",
      "           2       0.97      0.98      0.98      1262\n",
      "           3       0.99      0.97      0.98      1330\n",
      "           4       0.99      0.98      0.99      1254\n",
      "           5       0.98      0.99      0.99      1150\n",
      "           6       0.99      0.99      0.99      1205\n",
      "           7       0.99      0.98      0.98      1300\n",
      "           8       0.99      0.98      0.98      1225\n",
      "           9       0.97      0.99      0.98      1261\n",
      "\n",
      "    accuracy                           0.99     12600\n",
      "   macro avg       0.99      0.99      0.99     12600\n",
      "weighted avg       0.99      0.99      0.99     12600\n",
      "\n"
     ]
    }
   ],
   "source": [
    "print(classification_report(y_act, y_pred))"
   ]
  },
  {
   "cell_type": "code",
   "execution_count": 27,
   "metadata": {
    "execution": {
     "iopub.execute_input": "2024-09-05T06:29:57.220009Z",
     "iopub.status.busy": "2024-09-05T06:29:57.219598Z",
     "iopub.status.idle": "2024-09-05T06:29:57.846914Z",
     "shell.execute_reply": "2024-09-05T06:29:57.845884Z",
     "shell.execute_reply.started": "2024-09-05T06:29:57.219929Z"
    }
   },
   "outputs": [
    {
     "data": {
      "image/png": "[encoded data removed]",
      "text/plain": [
       "<Figure size 504x504 with 1 Axes>"
      ]
     },
     "metadata": {
      "needs_background": "light"
     },
     "output_type": "display_data"
    }
   ],
   "source": [
    "fig, ax = plt.subplots(figsize=(7, 7))\n",
    "sns.heatmap(confusion_matrix(y_act, y_pred), annot=True, \n",
    "            cbar=False, fmt='1d', cmap='Blues', ax=ax)\n",
    "ax.set_title('Confusion Matrix', loc='left', fontsize=16)\n",
    "ax.set_xlabel('Predicted')\n",
    "ax.set_ylabel('Actual')\n",
    "plt.show()"
   ]
  },
  {
   "cell_type": "markdown",
   "metadata": {},
   "source": [
    "### Predicting on test"
   ]
  },
  {
   "cell_type": "code",
   "execution_count": 28,
   "metadata": {
    "execution": {
     "iopub.execute_input": "2024-09-05T06:29:57.849178Z",
     "iopub.status.busy": "2024-09-05T06:29:57.848755Z",
     "iopub.status.idle": "2024-09-05T06:30:04.657658Z",
     "shell.execute_reply": "2024-09-05T06:30:04.656665Z",
     "shell.execute_reply.started": "2024-09-05T06:29:57.849090Z"
    }
   },
   "outputs": [
    {
     "name": "stdout",
     "output_type": "stream",
     "text": [
      "[1.37747355e-12 4.98541174e-11 1.00000000e+00 2.97625535e-11\n",
      " 6.74002434e-12 1.29045385e-14 1.82649861e-13 7.58877822e-11\n",
      " 1.60648751e-12 3.37526091e-15]\n",
      "2\n"
     ]
    }
   ],
   "source": [
    "# predicted values\n",
    "y_pred_enc = model.predict(test)\n",
    "\n",
    "# decoding predicted values\n",
    "y_pred = [np.argmax(i) for i in y_pred_enc]\n",
    "\n",
    "print(y_pred_enc[0])\n",
    "print(y_pred[0])"
   ]
  },
  {
   "cell_type": "code",
   "execution_count": 29,
   "metadata": {
    "execution": {
     "iopub.execute_input": "2024-09-05T06:30:04.659867Z",
     "iopub.status.busy": "2024-09-05T06:30:04.659442Z",
     "iopub.status.idle": "2024-09-05T06:30:05.866407Z",
     "shell.execute_reply": "2024-09-05T06:30:05.865406Z",
     "shell.execute_reply.started": "2024-09-05T06:30:04.659798Z"
    }
   },
   "outputs": [
    {
     "data": {
      "image/png": "[encoded data removed]",
      "text/plain": [
       "<Figure size 1296x864 with 15 Axes>"
      ]
     },
     "metadata": {
      "needs_background": "light"
     },
     "output_type": "display_data"
    }
   ],
   "source": [
    "# predicted targets of each images\n",
    "# (labels above the images are predicted labels)\n",
    "fig, ax = plt.subplots(figsize=(18, 12))\n",
    "for ind, row in enumerate(test[:15]):\n",
    "    plt.subplot(3, 5, ind+1)\n",
    "    plt.title(y_pred[ind])\n",
    "    img = row.reshape(28, 28)\n",
    "    fig.suptitle('Predicted values', fontsize=24)\n",
    "    plt.axis('off')\n",
    "    plt.imshow(img, cmap='cividis')"
   ]
  },
  {
   "cell_type": "code",
   "execution_count": 30,
   "metadata": {
    "execution": {
     "iopub.execute_input": "2024-09-05T06:30:05.868165Z",
     "iopub.status.busy": "2024-09-05T06:30:05.867846Z",
     "iopub.status.idle": "2024-09-05T06:30:05.872468Z",
     "shell.execute_reply": "2024-09-05T06:30:05.871352Z",
     "shell.execute_reply.started": "2024-09-05T06:30:05.868113Z"
    }
   },
   "outputs": [],
   "source": [
    "# X_train, X_val, y_train_enc, y_val_enc"
   ]
  }
 ],
 "metadata": {
  "kaggle": {
   "accelerator": "none",
   "dataSources": [
    {
     "databundleVersionId": 861823,
     "sourceId": 3004,
     "sourceType": "competition"
    }
   ],
   "dockerImageVersionId": 29837,
   "isGpuEnabled": false,
   "isInternetEnabled": false,
   "language": "python",
   "sourceType": "notebook"
  },
  "kernelspec": {
   "display_name": "Python 3",
   "language": "python",
   "name": "python3"
  },
  "language_info": {
   "codemirror_mode": {
    "name": "ipython",
    "version": 3
   },
   "file_extension": ".py",
   "mimetype": "text/x-python",
   "name": "python",
   "nbconvert_exporter": "python",
   "pygments_lexer": "ipython3",
   "version": "3.6.6"
  }
 },
 "nbformat": 4,
 "nbformat_minor": 4
}
